{
 "cells": [
  {
   "cell_type": "code",
   "execution_count": 1,
   "metadata": {},
   "outputs": [],
   "source": [
    "import matplotlib.pyplot as plt\n",
    "import matplotlib.collections\n",
    "import pandas as pd \n",
    "import numpy as np\n",
    "np.set_printoptions(threshold=np.inf)\n",
    "from sklearn.model_selection import train_test_split\n",
    "from sklearn.metrics import roc_auc_score\n",
    "from sklearn.metrics import mean_squared_error\n",
    "from math import sqrt"
   ]
  },
  {
   "cell_type": "markdown",
   "metadata": {},
   "source": [
    "### read the data"
   ]
  },
  {
   "cell_type": "code",
   "execution_count": 2,
   "metadata": {},
   "outputs": [
    {
     "data": {
      "text/html": [
       "<div>\n",
       "<style scoped>\n",
       "    .dataframe tbody tr th:only-of-type {\n",
       "        vertical-align: middle;\n",
       "    }\n",
       "\n",
       "    .dataframe tbody tr th {\n",
       "        vertical-align: top;\n",
       "    }\n",
       "\n",
       "    .dataframe thead th {\n",
       "        text-align: right;\n",
       "    }\n",
       "</style>\n",
       "<table border=\"1\" class=\"dataframe\">\n",
       "  <thead>\n",
       "    <tr style=\"text-align: right;\">\n",
       "      <th></th>\n",
       "      <th>fixed acidity</th>\n",
       "      <th>volatile acidity</th>\n",
       "      <th>citric acid</th>\n",
       "      <th>residual sugar</th>\n",
       "      <th>chlorides</th>\n",
       "      <th>free sulfur dioxide</th>\n",
       "      <th>total sulfur dioxide</th>\n",
       "      <th>density</th>\n",
       "      <th>pH</th>\n",
       "      <th>sulphates</th>\n",
       "      <th>alcohol</th>\n",
       "      <th>quality</th>\n",
       "    </tr>\n",
       "  </thead>\n",
       "  <tbody>\n",
       "    <tr>\n",
       "      <th>0</th>\n",
       "      <td>7.0</td>\n",
       "      <td>0.27</td>\n",
       "      <td>0.36</td>\n",
       "      <td>20.7</td>\n",
       "      <td>0.045</td>\n",
       "      <td>45.0</td>\n",
       "      <td>170.0</td>\n",
       "      <td>1.0010</td>\n",
       "      <td>3.00</td>\n",
       "      <td>0.45</td>\n",
       "      <td>8.8</td>\n",
       "      <td>6</td>\n",
       "    </tr>\n",
       "    <tr>\n",
       "      <th>1</th>\n",
       "      <td>6.3</td>\n",
       "      <td>0.30</td>\n",
       "      <td>0.34</td>\n",
       "      <td>1.6</td>\n",
       "      <td>0.049</td>\n",
       "      <td>14.0</td>\n",
       "      <td>132.0</td>\n",
       "      <td>0.9940</td>\n",
       "      <td>3.30</td>\n",
       "      <td>0.49</td>\n",
       "      <td>9.5</td>\n",
       "      <td>6</td>\n",
       "    </tr>\n",
       "    <tr>\n",
       "      <th>2</th>\n",
       "      <td>8.1</td>\n",
       "      <td>0.28</td>\n",
       "      <td>0.40</td>\n",
       "      <td>6.9</td>\n",
       "      <td>0.050</td>\n",
       "      <td>30.0</td>\n",
       "      <td>97.0</td>\n",
       "      <td>0.9951</td>\n",
       "      <td>3.26</td>\n",
       "      <td>0.44</td>\n",
       "      <td>10.1</td>\n",
       "      <td>6</td>\n",
       "    </tr>\n",
       "    <tr>\n",
       "      <th>3</th>\n",
       "      <td>7.2</td>\n",
       "      <td>0.23</td>\n",
       "      <td>0.32</td>\n",
       "      <td>8.5</td>\n",
       "      <td>0.058</td>\n",
       "      <td>47.0</td>\n",
       "      <td>186.0</td>\n",
       "      <td>0.9956</td>\n",
       "      <td>3.19</td>\n",
       "      <td>0.40</td>\n",
       "      <td>9.9</td>\n",
       "      <td>6</td>\n",
       "    </tr>\n",
       "    <tr>\n",
       "      <th>4</th>\n",
       "      <td>7.2</td>\n",
       "      <td>0.23</td>\n",
       "      <td>0.32</td>\n",
       "      <td>8.5</td>\n",
       "      <td>0.058</td>\n",
       "      <td>47.0</td>\n",
       "      <td>186.0</td>\n",
       "      <td>0.9956</td>\n",
       "      <td>3.19</td>\n",
       "      <td>0.40</td>\n",
       "      <td>9.9</td>\n",
       "      <td>6</td>\n",
       "    </tr>\n",
       "  </tbody>\n",
       "</table>\n",
       "</div>"
      ],
      "text/plain": [
       "   fixed acidity  volatile acidity  citric acid  residual sugar  chlorides  \\\n",
       "0            7.0              0.27         0.36            20.7      0.045   \n",
       "1            6.3              0.30         0.34             1.6      0.049   \n",
       "2            8.1              0.28         0.40             6.9      0.050   \n",
       "3            7.2              0.23         0.32             8.5      0.058   \n",
       "4            7.2              0.23         0.32             8.5      0.058   \n",
       "\n",
       "   free sulfur dioxide  total sulfur dioxide  density    pH  sulphates  \\\n",
       "0                 45.0                 170.0   1.0010  3.00       0.45   \n",
       "1                 14.0                 132.0   0.9940  3.30       0.49   \n",
       "2                 30.0                  97.0   0.9951  3.26       0.44   \n",
       "3                 47.0                 186.0   0.9956  3.19       0.40   \n",
       "4                 47.0                 186.0   0.9956  3.19       0.40   \n",
       "\n",
       "   alcohol  quality  \n",
       "0      8.8        6  \n",
       "1      9.5        6  \n",
       "2     10.1        6  \n",
       "3      9.9        6  \n",
       "4      9.9        6  "
      ]
     },
     "execution_count": 2,
     "metadata": {},
     "output_type": "execute_result"
    }
   ],
   "source": [
    "import pandas as pd \n",
    "data = pd.read_csv(\"winequality-white.csv\")\n",
    "data.head()"
   ]
  },
  {
   "cell_type": "code",
   "execution_count": 3,
   "metadata": {},
   "outputs": [
    {
     "data": {
      "text/plain": [
       "fixed acidity           0\n",
       "volatile acidity        0\n",
       "citric acid             0\n",
       "residual sugar          0\n",
       "chlorides               0\n",
       "free sulfur dioxide     0\n",
       "total sulfur dioxide    0\n",
       "density                 0\n",
       "pH                      0\n",
       "sulphates               0\n",
       "alcohol                 0\n",
       "quality                 0\n",
       "dtype: int64"
      ]
     },
     "execution_count": 3,
     "metadata": {},
     "output_type": "execute_result"
    }
   ],
   "source": [
    "data.isna().sum()"
   ]
  },
  {
   "cell_type": "code",
   "execution_count": 4,
   "metadata": {},
   "outputs": [],
   "source": [
    "X = data.drop([\"quality\"], axis=1)\n",
    "y = data[\"quality\"] "
   ]
  },
  {
   "cell_type": "markdown",
   "metadata": {},
   "source": [
    "## Oversampling the data"
   ]
  },
  {
   "cell_type": "code",
   "execution_count": 5,
   "metadata": {},
   "outputs": [
    {
     "data": {
      "text/plain": [
       "<matplotlib.axes._subplots.AxesSubplot at 0x1b2ef0232b0>"
      ]
     },
     "execution_count": 5,
     "metadata": {},
     "output_type": "execute_result"
    },
    {
     "data": {
      "image/png": "[encoded data removed]",
      "text/plain": [
       "<Figure size 432x288 with 1 Axes>"
      ]
     },
     "metadata": {
      "needs_background": "light"
     },
     "output_type": "display_data"
    }
   ],
   "source": [
    "y.plot.hist()"
   ]
  },
  {
   "cell_type": "code",
   "execution_count": 88,
   "metadata": {},
   "outputs": [],
   "source": [
    "from imblearn.over_sampling import SMOTE\n",
    "\n",
    "# Resample the minority class. You can change the strategy to 'auto' if you are not sure.\n",
    "sm = SMOTE(sampling_strategy='auto', random_state=2, k_neighbors=2)\n",
    "\n",
    "# Fit the model to generate the data.\n",
    "oversampled_X, oversampled_Y = sm.fit_sample(X, y)\n",
    "oversampled_data = pd.concat([pd.DataFrame(oversampled_X), pd.DataFrame(oversampled_Y)], axis=1)\n"
   ]
  },
  {
   "cell_type": "code",
   "execution_count": 89,
   "metadata": {},
   "outputs": [
    {
     "data": {
      "text/plain": [
       "<matplotlib.axes._subplots.AxesSubplot at 0x1b2800e1320>"
      ]
     },
     "execution_count": 89,
     "metadata": {},
     "output_type": "execute_result"
    },
    {
     "data": {
      "image/png": "[encoded data removed]",
      "text/plain": [
       "<Figure size 720x576 with 1 Axes>"
      ]
     },
     "metadata": {},
     "output_type": "display_data"
    }
   ],
   "source": [
    "oversampled_data['quality'].plot.hist()"
   ]
  },
  {
   "cell_type": "markdown",
   "metadata": {},
   "source": [
    "### normalize the data useing z-score"
   ]
  },
  {
   "cell_type": "code",
   "execution_count": 80,
   "metadata": {},
   "outputs": [
    {
     "data": {
      "text/html": [
       "<div>\n",
       "<style scoped>\n",
       "    .dataframe tbody tr th:only-of-type {\n",
       "        vertical-align: middle;\n",
       "    }\n",
       "\n",
       "    .dataframe tbody tr th {\n",
       "        vertical-align: top;\n",
       "    }\n",
       "\n",
       "    .dataframe thead th {\n",
       "        text-align: right;\n",
       "    }\n",
       "</style>\n",
       "<table border=\"1\" class=\"dataframe\">\n",
       "  <thead>\n",
       "    <tr style=\"text-align: right;\">\n",
       "      <th></th>\n",
       "      <th>fixed acidity</th>\n",
       "      <th>volatile acidity</th>\n",
       "      <th>citric acid</th>\n",
       "      <th>residual sugar</th>\n",
       "      <th>chlorides</th>\n",
       "      <th>free sulfur dioxide</th>\n",
       "      <th>total sulfur dioxide</th>\n",
       "      <th>density</th>\n",
       "      <th>pH</th>\n",
       "      <th>sulphates</th>\n",
       "      <th>alcohol</th>\n",
       "    </tr>\n",
       "  </thead>\n",
       "  <tbody>\n",
       "    <tr>\n",
       "      <th>0</th>\n",
       "      <td>-0.081767</td>\n",
       "      <td>-0.267496</td>\n",
       "      <td>0.197589</td>\n",
       "      <td>3.400489</td>\n",
       "      <td>0.048771</td>\n",
       "      <td>0.398211</td>\n",
       "      <td>0.678849</td>\n",
       "      <td>2.601131</td>\n",
       "      <td>-1.462237</td>\n",
       "      <td>-0.298797</td>\n",
       "      <td>-1.563794</td>\n",
       "    </tr>\n",
       "    <tr>\n",
       "      <th>1</th>\n",
       "      <td>-0.804069</td>\n",
       "      <td>0.020708</td>\n",
       "      <td>0.008672</td>\n",
       "      <td>-0.923994</td>\n",
       "      <td>0.230100</td>\n",
       "      <td>-0.827224</td>\n",
       "      <td>-0.059842</td>\n",
       "      <td>0.140312</td>\n",
       "      <td>0.639776</td>\n",
       "      <td>0.079823</td>\n",
       "      <td>-1.022984</td>\n",
       "    </tr>\n",
       "    <tr>\n",
       "      <th>2</th>\n",
       "      <td>1.053279</td>\n",
       "      <td>-0.171428</td>\n",
       "      <td>0.575423</td>\n",
       "      <td>0.275994</td>\n",
       "      <td>0.275432</td>\n",
       "      <td>-0.194741</td>\n",
       "      <td>-0.740216</td>\n",
       "      <td>0.527012</td>\n",
       "      <td>0.359508</td>\n",
       "      <td>-0.393452</td>\n",
       "      <td>-0.559432</td>\n",
       "    </tr>\n",
       "    <tr>\n",
       "      <th>3</th>\n",
       "      <td>0.124605</td>\n",
       "      <td>-0.651767</td>\n",
       "      <td>-0.180245</td>\n",
       "      <td>0.638254</td>\n",
       "      <td>0.638090</td>\n",
       "      <td>0.477272</td>\n",
       "      <td>0.989877</td>\n",
       "      <td>0.702785</td>\n",
       "      <td>-0.130962</td>\n",
       "      <td>-0.772073</td>\n",
       "      <td>-0.713950</td>\n",
       "    </tr>\n",
       "    <tr>\n",
       "      <th>4</th>\n",
       "      <td>0.124605</td>\n",
       "      <td>-0.651767</td>\n",
       "      <td>-0.180245</td>\n",
       "      <td>0.638254</td>\n",
       "      <td>0.638090</td>\n",
       "      <td>0.477272</td>\n",
       "      <td>0.989877</td>\n",
       "      <td>0.702785</td>\n",
       "      <td>-0.130962</td>\n",
       "      <td>-0.772073</td>\n",
       "      <td>-0.713950</td>\n",
       "    </tr>\n",
       "  </tbody>\n",
       "</table>\n",
       "</div>"
      ],
      "text/plain": [
       "   fixed acidity  volatile acidity  citric acid  residual sugar  chlorides  \\\n",
       "0      -0.081767         -0.267496     0.197589        3.400489   0.048771   \n",
       "1      -0.804069          0.020708     0.008672       -0.923994   0.230100   \n",
       "2       1.053279         -0.171428     0.575423        0.275994   0.275432   \n",
       "3       0.124605         -0.651767    -0.180245        0.638254   0.638090   \n",
       "4       0.124605         -0.651767    -0.180245        0.638254   0.638090   \n",
       "\n",
       "   free sulfur dioxide  total sulfur dioxide   density        pH  sulphates  \\\n",
       "0             0.398211              0.678849  2.601131 -1.462237  -0.298797   \n",
       "1            -0.827224             -0.059842  0.140312  0.639776   0.079823   \n",
       "2            -0.194741             -0.740216  0.527012  0.359508  -0.393452   \n",
       "3             0.477272              0.989877  0.702785 -0.130962  -0.772073   \n",
       "4             0.477272              0.989877  0.702785 -0.130962  -0.772073   \n",
       "\n",
       "    alcohol  \n",
       "0 -1.563794  \n",
       "1 -1.022984  \n",
       "2 -0.559432  \n",
       "3 -0.713950  \n",
       "4 -0.713950  "
      ]
     },
     "execution_count": 80,
     "metadata": {},
     "output_type": "execute_result"
    }
   ],
   "source": [
    "mean = oversampled_X.mean()\n",
    "std = oversampled_X.std()\n",
    "normalized_X = (oversampled_X - mean)/std\n",
    "normalized_X.head()"
   ]
  },
  {
   "cell_type": "markdown",
   "metadata": {},
   "source": [
    "### split the data"
   ]
  },
  {
   "cell_type": "code",
   "execution_count": 81,
   "metadata": {},
   "outputs": [],
   "source": [
    "X_train, X_test, y_train, y_test = train_test_split(normalized_X, oversampled_Y, test_size=0.18, random_state=42)"
   ]
  },
  {
   "cell_type": "code",
   "execution_count": 82,
   "metadata": {},
   "outputs": [],
   "source": [
    "train_normalized_data = X_train.copy()\n",
    "train_normalized_data['quality'] = y_train\n",
    "\n",
    "test_normalized_data = X_test.copy()\n",
    "test_normalized_data['quality'] = y_test"
   ]
  },
  {
   "cell_type": "code",
   "execution_count": 83,
   "metadata": {},
   "outputs": [
    {
     "data": {
      "image/png": "[encoded data removed]",
      "text/plain": [
       "<Figure size 720x576 with 2 Axes>"
      ]
     },
     "metadata": {},
     "output_type": "display_data"
    }
   ],
   "source": [
    "import seaborn as sns\n",
    "sns.set(rc={'figure.figsize':(10,8)})\n",
    "corr = oversampled_data.corr()\n",
    "sns.heatmap(corr, \n",
    "            xticklabels=corr.columns.values,\n",
    "            yticklabels=corr.columns.values,\n",
    "           cmap=\"YlGnBu\",\n",
    "            annot=True,\n",
    "           fmt=\".2f\")\n",
    "plt.show()"
   ]
  },
  {
   "cell_type": "markdown",
   "metadata": {},
   "source": [
    "# Question 1.a - Regrestion\n",
    "we'll try out three regresion models and compair them.\n",
    "1. linear regrestion\n",
    "2. SVM Regresor\n",
    "3. neural network regresor"
   ]
  },
  {
   "cell_type": "markdown",
   "metadata": {},
   "source": [
    "# Linear Regrestion"
   ]
  },
  {
   "cell_type": "code",
   "execution_count": 84,
   "metadata": {},
   "outputs": [
    {
     "name": "stdout",
     "output_type": "stream",
     "text": [
      "score =  0.4486567976631314\n",
      "train_rmse = 1.4710731258698422\n",
      "test_rmse = 1.4664960384758166\n"
     ]
    }
   ],
   "source": [
    "from sklearn.linear_model import LinearRegression\n",
    "reg = LinearRegression().fit(X_train, y_train)\n",
    "print('score = ', reg.score(X_test, y_test))\n",
    "\n",
    "from sklearn.metrics import mean_squared_error\n",
    "a=reg.predict(X_train)\n",
    "train_rmse= (mean_squared_error(a,y_train)) ** 0.5\n",
    "print('train_rmse =', train_rmse)\n",
    "b=reg.predict(X_test)\n",
    "test_rmse= (mean_squared_error(b,y_test)) ** 0.5\n",
    "print('test_rmse =', test_rmse)"
   ]
  },
  {
   "cell_type": "code",
   "execution_count": 85,
   "metadata": {},
   "outputs": [
    {
     "data": {
      "text/plain": [
       "array([ 0.42957673, -0.38319728,  0.18588449,  1.49396139, -0.06199969,\n",
       "       -0.14046652,  0.04711581, -1.81413262,  0.57056947,  0.18227106,\n",
       "        0.14476334])"
      ]
     },
     "execution_count": 85,
     "metadata": {},
     "output_type": "execute_result"
    }
   ],
   "source": [
    "reg.coef_"
   ]
  },
  {
   "cell_type": "code",
   "execution_count": 86,
   "metadata": {},
   "outputs": [
    {
     "data": {
      "text/plain": [
       "array([ 6.00582031e+00,  5.42284968e-01, -5.02356738e-01,  1.91227142e-01,\n",
       "        1.29654018e+00, -4.12613304e-01,  1.97227917e-01,  2.69268167e-01,\n",
       "       -1.68912525e+00,  5.07312480e-01,  2.51501448e-01,  7.11832268e-02,\n",
       "        1.04244485e-02, -1.89390567e-01,  4.74015299e-01,  3.20953672e-01,\n",
       "       -2.98129509e-01, -2.60667690e-01,  7.88688245e-02, -3.68387547e-01,\n",
       "        5.62269615e-01,  8.01378803e-03, -1.18585797e-01,  1.04047542e-01,\n",
       "        5.43289024e-03, -3.18445919e-01, -1.08553723e-02, -7.86116480e-02,\n",
       "        1.19749963e-01,  3.61391938e-01, -3.09851611e-02, -3.21048144e-02,\n",
       "        2.08049566e-01, -5.01176014e-02,  2.89656973e-01, -3.13040492e-02,\n",
       "        1.61183040e-01,  8.29084534e-03, -6.30090724e-01,  1.65923699e-01,\n",
       "        1.46939033e-01, -3.25685833e-01, -4.85237457e-01, -7.28342292e-01,\n",
       "        1.16379213e-01, -2.42063468e-01,  1.06619679e+00,  3.40703279e-01,\n",
       "       -2.61660919e-01,  4.08517891e-01,  3.88140196e-02,  4.75978541e-04,\n",
       "       -5.50598656e-02,  1.05237815e+00, -2.18505772e-01, -1.19490831e-01,\n",
       "        4.66541823e-01, -2.14886221e-01,  4.48866989e-01, -2.84146079e-01,\n",
       "        2.98905344e-04, -1.05778828e-02,  2.02225286e-01, -4.05959000e-01,\n",
       "        5.67358593e-01,  2.69743793e-02,  3.01696345e-03,  2.44020694e-01,\n",
       "       -5.36905360e-01, -6.14846595e-01,  1.75738142e-01, -2.85129743e-01,\n",
       "        1.96192252e-01,  1.41927866e-01, -1.42008226e-01, -8.11478740e-02,\n",
       "        4.13968364e-02,  2.06138182e-01])"
      ]
     },
     "execution_count": 86,
     "metadata": {},
     "output_type": "execute_result"
    }
   ],
   "source": [
    "# polinomial regresion\n",
    "from sklearn.preprocessing import PolynomialFeatures\n",
    "from sklearn.linear_model import LinearRegression\n",
    "from sklearn.pipeline import Pipeline\n",
    "\n",
    "\n",
    "p_reg = Pipeline([('poly', PolynomialFeatures(degree=2)),\n",
    "                  ('linear', LinearRegression(fit_intercept=False))])\n",
    "\n",
    "p_reg = p_reg.fit(X_train, y_train)\n",
    "p_reg.named_steps['linear'].coef_"
   ]
  },
  {
   "cell_type": "code",
   "execution_count": 87,
   "metadata": {},
   "outputs": [
    {
     "name": "stdout",
     "output_type": "stream",
     "text": [
      "score =  0.6625181779801186\n",
      "train_rmse = 1.1537267656697932\n",
      "test_rmse = 1.1473477663641494\n"
     ]
    }
   ],
   "source": [
    "from sklearn.metrics import mean_squared_error\n",
    "print ('score = ', p_reg.score(X_test, y_test))\n",
    "a = p_reg.predict(X_train)\n",
    "train_rmse = (mean_squared_error(a, y_train)) ** 0.5\n",
    "print('train_rmse =', train_rmse)\n",
    "b=  p_reg.predict(X_test)\n",
    "test_rmse = (mean_squared_error(b, y_test)) ** 0.5\n",
    "print('test_rmse =', test_rmse)"
   ]
  },
  {
   "cell_type": "markdown",
   "metadata": {},
   "source": [
    "# SVM Regresor"
   ]
  },
  {
   "cell_type": "code",
   "execution_count": 42,
   "metadata": {},
   "outputs": [
    {
     "data": {
      "text/plain": [
       "SVR(degree=2, kernel='poly')"
      ]
     },
     "execution_count": 42,
     "metadata": {},
     "output_type": "execute_result"
    }
   ],
   "source": [
    "from sklearn import svm\n",
    "regr_rbf = svm.SVR(kernel='rbf', C=0.5, gamma=1)\n",
    "regr_lin = svm.SVR(kernel='linear')\n",
    "regr_poly =svm.SVR(kernel='poly', degree = 2)\n",
    "regr_rbf.fit(X_train, y_train)\n",
    "regr_lin.fit(X_train, y_train)\n",
    "regr_poly.fit(X_train, y_train)"
   ]
  },
  {
   "cell_type": "code",
   "execution_count": 43,
   "metadata": {},
   "outputs": [
    {
     "name": "stdout",
     "output_type": "stream",
     "text": [
      "regr_rbf score =  0.9839473166862536\n",
      "regr_rbf train_rmse =  0.25408779722112323\n",
      "regr_rbf test_rmse =  0.3943492798967337 \n",
      "\n",
      "regr_lin score =  0.4164432833792763\n",
      "regr_lin train_rmse =  1.5319744603559584\n",
      "regr_lin test_rmse =  1.5110992004231583 \n",
      "\n",
      "regr_poly score =  0.30040757359414216\n",
      "regr_poly train_rmse =  1.677384164920809\n",
      "regr_poly test_rmse =  1.710531238085811\n"
     ]
    }
   ],
   "source": [
    "print('regr_rbf score = ',regr_rbf.score(X_train,y_train))\n",
    "a = regr_rbf.predict(X_train)\n",
    "train_rmse = (mean_squared_error(a, y_train)) ** 0.5\n",
    "print('regr_rbf train_rmse = ',train_rmse)\n",
    "b=  regr_rbf.predict(X_test)\n",
    "test_rmse = (mean_squared_error(b, y_test)) ** 0.5\n",
    "print('regr_rbf test_rmse = ', test_rmse, '\\n')\n",
    "\n",
    "print('regr_lin score = ',regr_lin.score(X_train,y_train))\n",
    "a = regr_lin.predict(X_train)\n",
    "train_rmse = (mean_squared_error(a, y_train)) ** 0.5\n",
    "print('regr_lin train_rmse = ',train_rmse)\n",
    "b=  regr_lin.predict(X_test)\n",
    "test_rmse = (mean_squared_error(b, y_test)) ** 0.5\n",
    "print('regr_lin test_rmse = ', test_rmse,'\\n')\n",
    "\n",
    "print('regr_poly score = ',regr_poly.score(X_train,y_train))\n",
    "a = regr_poly.predict(X_train)\n",
    "train_rmse = (mean_squared_error(a, y_train)) ** 0.5\n",
    "print('regr_poly train_rmse = ',train_rmse)\n",
    "b=  regr_poly.predict(X_test)\n",
    "test_rmse = (mean_squared_error(b, y_test)) ** 0.5\n",
    "print('regr_poly test_rmse = ', test_rmse)"
   ]
  },
  {
   "cell_type": "markdown",
   "metadata": {},
   "source": [
    "# Neural Network Regresor "
   ]
  },
  {
   "cell_type": "code",
   "execution_count": null,
   "metadata": {},
   "outputs": [],
   "source": [
    "import keras\n",
    "from keras.models import Sequential\n",
    "from keras.layers import Input, Dense\n",
    "from keras.models import Model\n",
    "import tensorflow as tf"
   ]
  },
  {
   "cell_type": "code",
   "execution_count": null,
   "metadata": {},
   "outputs": [],
   "source": [
    "NN_model = Sequential()\n",
    "NN_model.add(Dense(9, input_dim=11, activation= \"selu\"))\n",
    "NN_model.add(Dense(6, activation= \"selu\"))\n",
    "NN_model.add(Dense(4, activation= \"selu\"))\n",
    "NN_model.add(Dense(2, activation= \"selu\"))\n",
    "NN_model.add(Dense(1))"
   ]
  },
  {
   "cell_type": "code",
   "execution_count": null,
   "metadata": {
    "scrolled": true
   },
   "outputs": [],
   "source": [
    "NN_model.compile(loss= \"mean_squared_error\", optimizer=\"adam\", metrics=[\"mean_squared_error\"])\n",
    "#history = NN_model.fit(X_train, y_train, epochs=100, validation_split=0.2, callbacks=[tf.keras.callbacks.EarlyStopping(patience=2)])\n",
    "history = NN_model.fit(X_train, y_train, epochs=70, validation_split=0.3)"
   ]
  },
  {
   "cell_type": "code",
   "execution_count": null,
   "metadata": {},
   "outputs": [],
   "source": [
    "print(history.history.keys())"
   ]
  },
  {
   "cell_type": "code",
   "execution_count": null,
   "metadata": {},
   "outputs": [],
   "source": [
    "# list all data in history\n",
    "print(history.history.keys())\n",
    "# summarize history for accuracy\n",
    "plt.plot(history.history['mean_squared_error'])\n",
    "plt.plot(history.history['val_mean_squared_error'])\n",
    "plt.title('mean_squared_error')\n",
    "plt.ylabel('mean_squared_error')\n",
    "plt.xlabel('epoch')\n",
    "plt.legend(['train', 'test'], loc='upper left')\n",
    "plt.show()\n",
    "# summarize history for loss\n",
    "plt.plot(history.history['loss'])\n",
    "plt.plot(history.history['val_loss'])\n",
    "plt.title('model loss')\n",
    "plt.ylabel('loss')\n",
    "plt.xlabel('epoch')\n",
    "plt.legend(['train', 'test'], loc='upper left')\n",
    "plt.show()"
   ]
  },
  {
   "cell_type": "code",
   "execution_count": null,
   "metadata": {},
   "outputs": [],
   "source": [
    "a = NN_model.predict(X_train)\n",
    "train_rmse = (mean_squared_error(a, y_train)) ** 0.5\n",
    "print('NN train_rmse = ',train_rmse)\n",
    "b=  NN_model.predict(X_test)\n",
    "test_rmse = (mean_squared_error(b, y_test)) ** 0.5\n",
    "print('NN test_rmse = ', test_rmse)"
   ]
  },
  {
   "cell_type": "markdown",
   "metadata": {},
   "source": [
    "# Question 1.b - Clustering\n",
    "we'll try out three clustering methoods and compair them.\n",
    "1. DBSCAN\n",
    "2. K-Means\n",
    "3. GMM"
   ]
  },
  {
   "cell_type": "code",
   "execution_count": null,
   "metadata": {},
   "outputs": [],
   "source": [
    "from sklearn.cluster import MeanShift\n",
    "import numpy as np\n",
    "\n",
    "clustering = MeanShift(bandwidth=3).fit(normalized_X)\n",
    "clustering.labels_\n",
    "\n",
    "\n",
    "clustering"
   ]
  },
  {
   "cell_type": "code",
   "execution_count": null,
   "metadata": {},
   "outputs": [],
   "source": [
    "clustering.labels_"
   ]
  },
  {
   "cell_type": "code",
   "execution_count": null,
   "metadata": {},
   "outputs": [],
   "source": [
    "data['MeanShift_cluster'] = pd.Series(clustering.labels_, index=data.index)"
   ]
  },
  {
   "cell_type": "code",
   "execution_count": null,
   "metadata": {},
   "outputs": [],
   "source": [
    "hist_dictionary = {}\n",
    "for i in clustering.labels_:\n",
    "    if str(i) in hist_dictionary:\n",
    "        hist_dictionary[str(i)] = hist_dictionary[str(i)] + 1\n",
    "    else:\n",
    "        hist_dictionary[str(i)] = 1\n",
    "clusters_names_numeric = [int(x) for x in hist_dictionary.keys()]\n",
    "clusters_names_numeric.sort()\n",
    "clusters_names = [str(name) for name in clusters_names_numeric]\n",
    "points_amount_for_cluster = [hist_dictionary[x] for x in clusters_names]\n",
    "\n",
    "clustering_hist_df = pd.DataFrame([points_amount_for_cluster])\n",
    "clustering_hist_df.columns = clusters_names\n",
    "print('Table of the component number, and how many points each one of them has:')\n",
    "clustering_hist_df"
   ]
  },
  {
   "cell_type": "code",
   "execution_count": null,
   "metadata": {},
   "outputs": [],
   "source": [
    "data[data.MeanShift_cluster == 0]['quality'].min()"
   ]
  },
  {
   "cell_type": "code",
   "execution_count": null,
   "metadata": {},
   "outputs": [],
   "source": [
    "from sklearn.cluster import AgglomerativeClustering\n",
    "import scipy.cluster.hierarchy as sch\n",
    "dendrogram = sch.dendrogram(sch.linkage(data, method='ward'))\n",
    "\n",
    "model = AgglomerativeClustering(n_clusters=7, affinity='euclidean', linkage='ward')\n",
    "model.fit(normalized_X.drop(['free sulfur dioxide','citric acid'], axis=1))\n",
    "labels = model.labels_\n",
    "data['Agglomerative_cluster'] = pd.Series(model.labels_, index=data.index)"
   ]
  },
  {
   "cell_type": "code",
   "execution_count": null,
   "metadata": {},
   "outputs": [],
   "source": [
    "for i in range(0,7):\n",
    "    print('min',data[data.Agglomerative_cluster==i]['quality'].min())\n",
    "    print('max',data[data.Agglomerative_cluster==i]['quality'].max())\n",
    "    print('mean',data[data.Agglomerative_cluster==i]['quality'].mean())"
   ]
  },
  {
   "cell_type": "code",
   "execution_count": null,
   "metadata": {},
   "outputs": [],
   "source": [
    "hist_dictionary = {}\n",
    "for i in model.labels_:\n",
    "    if str(i) in hist_dictionary:\n",
    "        hist_dictionary[str(i)] = hist_dictionary[str(i)] + 1\n",
    "    else:\n",
    "        hist_dictionary[str(i)] = 1\n",
    "clusters_names_numeric = [int(x) for x in hist_dictionary.keys()]\n",
    "clusters_names_numeric.sort()\n",
    "clusters_names = [str(name) for name in clusters_names_numeric]\n",
    "points_amount_for_cluster = [hist_dictionary[x] for x in clusters_names]\n",
    "\n",
    "clustering_hist_df = pd.DataFrame([points_amount_for_cluster])\n",
    "clustering_hist_df.columns = clusters_names\n",
    "print('Table of the component number, and how many points each one of them has:')\n",
    "clustering_hist_df"
   ]
  },
  {
   "cell_type": "code",
   "execution_count": null,
   "metadata": {},
   "outputs": [],
   "source": [
    "normalized_data = normalized_X.copy()"
   ]
  },
  {
   "cell_type": "code",
   "execution_count": null,
   "metadata": {},
   "outputs": [],
   "source": [
    "normalized_data['quality']=y"
   ]
  },
  {
   "cell_type": "code",
   "execution_count": null,
   "metadata": {},
   "outputs": [],
   "source": []
  },
  {
   "cell_type": "code",
   "execution_count": null,
   "metadata": {
    "scrolled": true
   },
   "outputs": [],
   "source": [
    "### AN EXAMPLE OF DEEP AUTOENCODER WITH MULTIPLE LAYERS\n",
    "# InputLayer (None, 10)\n",
    "#      Dense (None, 20)\n",
    "#      Dense (None, 10)\n",
    "#      Dense (None, 5)\n",
    "#      Dense (None, 3)\n",
    "#      Dense (None, 5)\n",
    "#      Dense (None, 10)\n",
    "#      Dense (None, 20)\n",
    "#      Dense (None, 10)\n",
    " \n",
    "input_dim = Input(shape = (11, ))\n",
    "# DEFINE THE DIMENSION OF ENCODER ASSUMED 3\n",
    "encoding_dim = 3\n",
    "# DEFINE THE ENCODER LAYERS\n",
    "encoded1 = Dense(20, activation = 'relu')(input_dim)\n",
    "encoded2 = Dense(10, activation = 'relu')(encoded1)\n",
    "encoded3 = Dense(5, activation = 'relu')(encoded2)\n",
    "encoded4 = Dense(encoding_dim, activation = 'relu')(encoded3)\n",
    "# DEFINE THE DECODER LAYERS\n",
    "decoded1 = Dense(5, activation = 'relu')(encoded4)\n",
    "decoded2 = Dense(10, activation = 'relu')(decoded1)\n",
    "decoded3 = Dense(20, activation = 'relu')(decoded2)\n",
    "decoded4 = Dense(11, activation = 'sigmoid')(decoded3)\n",
    "# COMBINE ENCODER AND DECODER INTO AN AUTOENCODER MODEL\n",
    "autoencoder = Model(input_dim, decoded4)\n",
    "# CONFIGURE AND TRAIN THE AUTOENCODER\n",
    "autoencoder.compile(optimizer = 'adadelta', loss = 'binary_crossentropy')\n",
    "autoencoder.fit(X_train, X_train, epochs = 100, batch_size = 100, shuffle = True, validation_data = (X_test, X_test))\n",
    "# THE ENCODER TO EXTRACT THE REDUCED DIMENSION FROM THE ABOVE AUTOENCODER\n",
    "encoder = Model(input_dim, encoded4)\n",
    "encoded_input = Input(shape = (encoding_dim, ))\n",
    "encoded_out = encoder.predict(X_test)\n",
    "encoded_out[0:2]"
   ]
  },
  {
   "cell_type": "code",
   "execution_count": null,
   "metadata": {
    "scrolled": true
   },
   "outputs": [],
   "source": [
    "decoder = Model(encoded4, decoded4)\n",
    "decoder_input = Input(shape = (encoding_dim, ))\n",
    "decoder_out = decoder.predict(encoded_out[0:2])\n",
    "decoder_out"
   ]
  },
  {
   "cell_type": "code",
   "execution_count": null,
   "metadata": {},
   "outputs": [],
   "source": []
  },
  {
   "cell_type": "code",
   "execution_count": null,
   "metadata": {},
   "outputs": [],
   "source": []
  },
  {
   "cell_type": "markdown",
   "metadata": {},
   "source": [
    "# For Tom"
   ]
  },
  {
   "cell_type": "markdown",
   "metadata": {},
   "source": [
    "### K_MEANS Elbow Method"
   ]
  },
  {
   "cell_type": "code",
   "execution_count": null,
   "metadata": {},
   "outputs": [],
   "source": [
    "from sklearn.cluster import KMeans\n"
   ]
  },
  {
   "cell_type": "code",
   "execution_count": null,
   "metadata": {},
   "outputs": [],
   "source": [
    "Sum_of_squared_distances = []\n",
    "K = range(1,15)\n",
    "for k in K:\n",
    "    km = KMeans(n_clusters=k)\n",
    "    km = km.fit(X_train)\n",
    "    Sum_of_squared_distances.append(km.inertia_)"
   ]
  },
  {
   "cell_type": "code",
   "execution_count": null,
   "metadata": {},
   "outputs": [],
   "source": [
    "plt.plot(K, Sum_of_squared_distances, 'bx-')\n",
    "plt.xlabel('k')\n",
    "plt.ylabel('Sum_of_squared_distances')\n",
    "plt.title('Elbow Method For Optimal k')\n",
    "plt.show()"
   ]
  },
  {
   "cell_type": "code",
   "execution_count": null,
   "metadata": {},
   "outputs": [],
   "source": [
    "clsuter = KMeans(n_clusters=300)\n",
    "clsuter = cluter.fit(X_train)\n",
    "new_y_train = pd.DataFrame(y_train.copy(),columns=['quality'])\n",
    "len(clsuter.labels_)\n",
    "new_y_train.count()\n",
    "new_y_train['KMeans_cluster'] = pd.Series(clsuter.labels_, index=newy_train.index)\n",
    "new_y_train['KMeans_cluster'].max()"
   ]
  },
  {
   "cell_type": "code",
   "execution_count": null,
   "metadata": {},
   "outputs": [],
   "source": [
    "def getClusterMeanDict(df: pd.DataFrame, cluster_column_name: str, quality_column_name='quality'):\n",
    "    cluster_quality_dict = {}\n",
    "    for i in df[cluster_column_name].unique():\n",
    "        cluster_quality_dict[i] = df[df[cluster_column_name]==i][quality_column_name].mean()\n",
    "    return cluster_quality_dict"
   ]
  },
  {
   "cell_type": "code",
   "execution_count": null,
   "metadata": {},
   "outputs": [],
   "source": [
    "KM_score_dict = getClusterMeanDict(new_y_train,cluster_column_name = 'KMeans_cluster')"
   ]
  },
  {
   "cell_type": "code",
   "execution_count": null,
   "metadata": {},
   "outputs": [],
   "source": [
    "def cluster_score(cluster_quality_dict: dict, test_cluster_lables: pd.Series, real_test_values: pd.Series):\n",
    "    predicted_qualities = []\n",
    "    for i in test_cluster_lables:\n",
    "        predicted_qualities.append(cluster_quality_dict[i])\n",
    "    predicted_qualities = pd.Series(predicted_qualities)\n",
    "    return mean_squared_error(predicted_qualities, real_test_values) ** 0.5"
   ]
  },
  {
   "cell_type": "code",
   "execution_count": null,
   "metadata": {},
   "outputs": [],
   "source": [
    "cluster_score(KM_score_dict,kn_pred,y_test)"
   ]
  },
  {
   "cell_type": "code",
   "execution_count": null,
   "metadata": {},
   "outputs": [],
   "source": []
  },
  {
   "cell_type": "code",
   "execution_count": null,
   "metadata": {},
   "outputs": [],
   "source": []
  },
  {
   "cell_type": "code",
   "execution_count": null,
   "metadata": {},
   "outputs": [],
   "source": []
  },
  {
   "cell_type": "code",
   "execution_count": null,
   "metadata": {},
   "outputs": [],
   "source": []
  },
  {
   "cell_type": "code",
   "execution_count": null,
   "metadata": {},
   "outputs": [],
   "source": []
  },
  {
   "cell_type": "markdown",
   "metadata": {
    "scrolled": true
   },
   "source": [
    "# Demention Reduction"
   ]
  },
  {
   "cell_type": "code",
   "execution_count": 90,
   "metadata": {},
   "outputs": [
    {
     "name": "stdout",
     "output_type": "stream",
     "text": [
      "[0.29732982 0.16419517 0.11916002]\n",
      "[224.31810486 166.69603891 142.00720303]\n"
     ]
    }
   ],
   "source": [
    "from sklearn.decomposition import PCA\n",
    "pca = PCA(n_components=3)\n",
    "pca.fit(normalized_X)\n",
    "\n",
    "print(pca.explained_variance_ratio_)\n",
    "\n",
    "print(pca.singular_values_)"
   ]
  },
  {
   "cell_type": "code",
   "execution_count": 91,
   "metadata": {},
   "outputs": [],
   "source": [
    "pca_df = pd.DataFrame(pca.transform(normalized_X))\n",
    "pca_df['quality'] = y"
   ]
  },
  {
   "cell_type": "code",
   "execution_count": 92,
   "metadata": {},
   "outputs": [
    {
     "data": {
      "text/html": [
       "<div>\n",
       "<style scoped>\n",
       "    .dataframe tbody tr th:only-of-type {\n",
       "        vertical-align: middle;\n",
       "    }\n",
       "\n",
       "    .dataframe tbody tr th {\n",
       "        vertical-align: top;\n",
       "    }\n",
       "\n",
       "    .dataframe thead th {\n",
       "        text-align: right;\n",
       "    }\n",
       "</style>\n",
       "<table border=\"1\" class=\"dataframe\">\n",
       "  <thead>\n",
       "    <tr style=\"text-align: right;\">\n",
       "      <th></th>\n",
       "      <th>0</th>\n",
       "      <th>1</th>\n",
       "      <th>2</th>\n",
       "      <th>quality</th>\n",
       "    </tr>\n",
       "  </thead>\n",
       "  <tbody>\n",
       "    <tr>\n",
       "      <th>0</th>\n",
       "      <td>4.057311</td>\n",
       "      <td>-0.872062</td>\n",
       "      <td>0.332456</td>\n",
       "      <td>6.0</td>\n",
       "    </tr>\n",
       "    <tr>\n",
       "      <th>1</th>\n",
       "      <td>-0.249416</td>\n",
       "      <td>0.345679</td>\n",
       "      <td>-0.720867</td>\n",
       "      <td>6.0</td>\n",
       "    </tr>\n",
       "    <tr>\n",
       "      <th>2</th>\n",
       "      <td>0.473228</td>\n",
       "      <td>-1.104620</td>\n",
       "      <td>0.254698</td>\n",
       "      <td>6.0</td>\n",
       "    </tr>\n",
       "    <tr>\n",
       "      <th>3</th>\n",
       "      <td>1.552947</td>\n",
       "      <td>0.200832</td>\n",
       "      <td>0.282759</td>\n",
       "      <td>6.0</td>\n",
       "    </tr>\n",
       "    <tr>\n",
       "      <th>4</th>\n",
       "      <td>1.552947</td>\n",
       "      <td>0.200832</td>\n",
       "      <td>0.282759</td>\n",
       "      <td>6.0</td>\n",
       "    </tr>\n",
       "    <tr>\n",
       "      <th>...</th>\n",
       "      <td>...</td>\n",
       "      <td>...</td>\n",
       "      <td>...</td>\n",
       "      <td>...</td>\n",
       "    </tr>\n",
       "    <tr>\n",
       "      <th>15381</th>\n",
       "      <td>-1.975046</td>\n",
       "      <td>0.411231</td>\n",
       "      <td>0.467514</td>\n",
       "      <td>NaN</td>\n",
       "    </tr>\n",
       "    <tr>\n",
       "      <th>15382</th>\n",
       "      <td>0.443983</td>\n",
       "      <td>-1.477423</td>\n",
       "      <td>1.209859</td>\n",
       "      <td>NaN</td>\n",
       "    </tr>\n",
       "    <tr>\n",
       "      <th>15383</th>\n",
       "      <td>-2.340259</td>\n",
       "      <td>-0.004914</td>\n",
       "      <td>1.052164</td>\n",
       "      <td>NaN</td>\n",
       "    </tr>\n",
       "    <tr>\n",
       "      <th>15384</th>\n",
       "      <td>-2.040441</td>\n",
       "      <td>-0.089015</td>\n",
       "      <td>1.063466</td>\n",
       "      <td>NaN</td>\n",
       "    </tr>\n",
       "    <tr>\n",
       "      <th>15385</th>\n",
       "      <td>0.875093</td>\n",
       "      <td>-1.578866</td>\n",
       "      <td>1.080372</td>\n",
       "      <td>NaN</td>\n",
       "    </tr>\n",
       "  </tbody>\n",
       "</table>\n",
       "<p>15386 rows × 4 columns</p>\n",
       "</div>"
      ],
      "text/plain": [
       "              0         1         2  quality\n",
       "0      4.057311 -0.872062  0.332456      6.0\n",
       "1     -0.249416  0.345679 -0.720867      6.0\n",
       "2      0.473228 -1.104620  0.254698      6.0\n",
       "3      1.552947  0.200832  0.282759      6.0\n",
       "4      1.552947  0.200832  0.282759      6.0\n",
       "...         ...       ...       ...      ...\n",
       "15381 -1.975046  0.411231  0.467514      NaN\n",
       "15382  0.443983 -1.477423  1.209859      NaN\n",
       "15383 -2.340259 -0.004914  1.052164      NaN\n",
       "15384 -2.040441 -0.089015  1.063466      NaN\n",
       "15385  0.875093 -1.578866  1.080372      NaN\n",
       "\n",
       "[15386 rows x 4 columns]"
      ]
     },
     "execution_count": 92,
     "metadata": {},
     "output_type": "execute_result"
    }
   ],
   "source": [
    "pca_df"
   ]
  },
  {
   "cell_type": "code",
   "execution_count": 93,
   "metadata": {},
   "outputs": [
    {
     "data": {
      "image/png": "[encoded data removed]",
      "text/plain": [
       "<Figure size 720x576 with 2 Axes>"
      ]
     },
     "metadata": {},
     "output_type": "display_data"
    }
   ],
   "source": [
    "import seaborn as sns\n",
    "sns.set(rc={'figure.figsize':(10,8)})\n",
    "corr = pca_df.corr()\n",
    "sns.heatmap(corr, \n",
    "            xticklabels=corr.columns.values,\n",
    "            yticklabels=corr.columns.values,\n",
    "           cmap=\"YlGnBu\",\n",
    "            annot=True,\n",
    "           fmt=\".2f\")\n",
    "plt.show()"
   ]
  },
  {
   "cell_type": "code",
   "execution_count": 94,
   "metadata": {},
   "outputs": [
    {
     "data": {
      "text/html": [
       "<div>\n",
       "<style scoped>\n",
       "    .dataframe tbody tr th:only-of-type {\n",
       "        vertical-align: middle;\n",
       "    }\n",
       "\n",
       "    .dataframe tbody tr th {\n",
       "        vertical-align: top;\n",
       "    }\n",
       "\n",
       "    .dataframe thead th {\n",
       "        text-align: right;\n",
       "    }\n",
       "</style>\n",
       "<table border=\"1\" class=\"dataframe\">\n",
       "  <thead>\n",
       "    <tr style=\"text-align: right;\">\n",
       "      <th></th>\n",
       "      <th>fixed acidity</th>\n",
       "      <th>volatile acidity</th>\n",
       "      <th>citric acid</th>\n",
       "      <th>residual sugar</th>\n",
       "      <th>chlorides</th>\n",
       "      <th>free sulfur dioxide</th>\n",
       "      <th>total sulfur dioxide</th>\n",
       "      <th>density</th>\n",
       "      <th>pH</th>\n",
       "      <th>sulphates</th>\n",
       "      <th>alcohol</th>\n",
       "      <th>quality</th>\n",
       "    </tr>\n",
       "  </thead>\n",
       "  <tbody>\n",
       "    <tr>\n",
       "      <th>0</th>\n",
       "      <td>7.0</td>\n",
       "      <td>0.27</td>\n",
       "      <td>0.36</td>\n",
       "      <td>20.7</td>\n",
       "      <td>0.045</td>\n",
       "      <td>45.0</td>\n",
       "      <td>170.0</td>\n",
       "      <td>1.00100</td>\n",
       "      <td>3.00</td>\n",
       "      <td>0.45</td>\n",
       "      <td>8.8</td>\n",
       "      <td>6</td>\n",
       "    </tr>\n",
       "    <tr>\n",
       "      <th>1</th>\n",
       "      <td>6.3</td>\n",
       "      <td>0.30</td>\n",
       "      <td>0.34</td>\n",
       "      <td>1.6</td>\n",
       "      <td>0.049</td>\n",
       "      <td>14.0</td>\n",
       "      <td>132.0</td>\n",
       "      <td>0.99400</td>\n",
       "      <td>3.30</td>\n",
       "      <td>0.49</td>\n",
       "      <td>9.5</td>\n",
       "      <td>6</td>\n",
       "    </tr>\n",
       "    <tr>\n",
       "      <th>2</th>\n",
       "      <td>8.1</td>\n",
       "      <td>0.28</td>\n",
       "      <td>0.40</td>\n",
       "      <td>6.9</td>\n",
       "      <td>0.050</td>\n",
       "      <td>30.0</td>\n",
       "      <td>97.0</td>\n",
       "      <td>0.99510</td>\n",
       "      <td>3.26</td>\n",
       "      <td>0.44</td>\n",
       "      <td>10.1</td>\n",
       "      <td>6</td>\n",
       "    </tr>\n",
       "    <tr>\n",
       "      <th>3</th>\n",
       "      <td>7.2</td>\n",
       "      <td>0.23</td>\n",
       "      <td>0.32</td>\n",
       "      <td>8.5</td>\n",
       "      <td>0.058</td>\n",
       "      <td>47.0</td>\n",
       "      <td>186.0</td>\n",
       "      <td>0.99560</td>\n",
       "      <td>3.19</td>\n",
       "      <td>0.40</td>\n",
       "      <td>9.9</td>\n",
       "      <td>6</td>\n",
       "    </tr>\n",
       "    <tr>\n",
       "      <th>4</th>\n",
       "      <td>7.2</td>\n",
       "      <td>0.23</td>\n",
       "      <td>0.32</td>\n",
       "      <td>8.5</td>\n",
       "      <td>0.058</td>\n",
       "      <td>47.0</td>\n",
       "      <td>186.0</td>\n",
       "      <td>0.99560</td>\n",
       "      <td>3.19</td>\n",
       "      <td>0.40</td>\n",
       "      <td>9.9</td>\n",
       "      <td>6</td>\n",
       "    </tr>\n",
       "    <tr>\n",
       "      <th>...</th>\n",
       "      <td>...</td>\n",
       "      <td>...</td>\n",
       "      <td>...</td>\n",
       "      <td>...</td>\n",
       "      <td>...</td>\n",
       "      <td>...</td>\n",
       "      <td>...</td>\n",
       "      <td>...</td>\n",
       "      <td>...</td>\n",
       "      <td>...</td>\n",
       "      <td>...</td>\n",
       "      <td>...</td>\n",
       "    </tr>\n",
       "    <tr>\n",
       "      <th>4893</th>\n",
       "      <td>6.2</td>\n",
       "      <td>0.21</td>\n",
       "      <td>0.29</td>\n",
       "      <td>1.6</td>\n",
       "      <td>0.039</td>\n",
       "      <td>24.0</td>\n",
       "      <td>92.0</td>\n",
       "      <td>0.99114</td>\n",
       "      <td>3.27</td>\n",
       "      <td>0.50</td>\n",
       "      <td>11.2</td>\n",
       "      <td>6</td>\n",
       "    </tr>\n",
       "    <tr>\n",
       "      <th>4894</th>\n",
       "      <td>6.6</td>\n",
       "      <td>0.32</td>\n",
       "      <td>0.36</td>\n",
       "      <td>8.0</td>\n",
       "      <td>0.047</td>\n",
       "      <td>57.0</td>\n",
       "      <td>168.0</td>\n",
       "      <td>0.99490</td>\n",
       "      <td>3.15</td>\n",
       "      <td>0.46</td>\n",
       "      <td>9.6</td>\n",
       "      <td>5</td>\n",
       "    </tr>\n",
       "    <tr>\n",
       "      <th>4895</th>\n",
       "      <td>6.5</td>\n",
       "      <td>0.24</td>\n",
       "      <td>0.19</td>\n",
       "      <td>1.2</td>\n",
       "      <td>0.041</td>\n",
       "      <td>30.0</td>\n",
       "      <td>111.0</td>\n",
       "      <td>0.99254</td>\n",
       "      <td>2.99</td>\n",
       "      <td>0.46</td>\n",
       "      <td>9.4</td>\n",
       "      <td>6</td>\n",
       "    </tr>\n",
       "    <tr>\n",
       "      <th>4896</th>\n",
       "      <td>5.5</td>\n",
       "      <td>0.29</td>\n",
       "      <td>0.30</td>\n",
       "      <td>1.1</td>\n",
       "      <td>0.022</td>\n",
       "      <td>20.0</td>\n",
       "      <td>110.0</td>\n",
       "      <td>0.98869</td>\n",
       "      <td>3.34</td>\n",
       "      <td>0.38</td>\n",
       "      <td>12.8</td>\n",
       "      <td>7</td>\n",
       "    </tr>\n",
       "    <tr>\n",
       "      <th>4897</th>\n",
       "      <td>6.0</td>\n",
       "      <td>0.21</td>\n",
       "      <td>0.38</td>\n",
       "      <td>0.8</td>\n",
       "      <td>0.020</td>\n",
       "      <td>22.0</td>\n",
       "      <td>98.0</td>\n",
       "      <td>0.98941</td>\n",
       "      <td>3.26</td>\n",
       "      <td>0.32</td>\n",
       "      <td>11.8</td>\n",
       "      <td>6</td>\n",
       "    </tr>\n",
       "  </tbody>\n",
       "</table>\n",
       "<p>4898 rows × 12 columns</p>\n",
       "</div>"
      ],
      "text/plain": [
       "      fixed acidity  volatile acidity  citric acid  residual sugar  chlorides  \\\n",
       "0               7.0              0.27         0.36            20.7      0.045   \n",
       "1               6.3              0.30         0.34             1.6      0.049   \n",
       "2               8.1              0.28         0.40             6.9      0.050   \n",
       "3               7.2              0.23         0.32             8.5      0.058   \n",
       "4               7.2              0.23         0.32             8.5      0.058   \n",
       "...             ...               ...          ...             ...        ...   \n",
       "4893            6.2              0.21         0.29             1.6      0.039   \n",
       "4894            6.6              0.32         0.36             8.0      0.047   \n",
       "4895            6.5              0.24         0.19             1.2      0.041   \n",
       "4896            5.5              0.29         0.30             1.1      0.022   \n",
       "4897            6.0              0.21         0.38             0.8      0.020   \n",
       "\n",
       "      free sulfur dioxide  total sulfur dioxide  density    pH  sulphates  \\\n",
       "0                    45.0                 170.0  1.00100  3.00       0.45   \n",
       "1                    14.0                 132.0  0.99400  3.30       0.49   \n",
       "2                    30.0                  97.0  0.99510  3.26       0.44   \n",
       "3                    47.0                 186.0  0.99560  3.19       0.40   \n",
       "4                    47.0                 186.0  0.99560  3.19       0.40   \n",
       "...                   ...                   ...      ...   ...        ...   \n",
       "4893                 24.0                  92.0  0.99114  3.27       0.50   \n",
       "4894                 57.0                 168.0  0.99490  3.15       0.46   \n",
       "4895                 30.0                 111.0  0.99254  2.99       0.46   \n",
       "4896                 20.0                 110.0  0.98869  3.34       0.38   \n",
       "4897                 22.0                  98.0  0.98941  3.26       0.32   \n",
       "\n",
       "      alcohol  quality  \n",
       "0         8.8        6  \n",
       "1         9.5        6  \n",
       "2        10.1        6  \n",
       "3         9.9        6  \n",
       "4         9.9        6  \n",
       "...       ...      ...  \n",
       "4893     11.2        6  \n",
       "4894      9.6        5  \n",
       "4895      9.4        6  \n",
       "4896     12.8        7  \n",
       "4897     11.8        6  \n",
       "\n",
       "[4898 rows x 12 columns]"
      ]
     },
     "execution_count": 94,
     "metadata": {},
     "output_type": "execute_result"
    }
   ],
   "source": [
    "data"
   ]
  },
  {
   "cell_type": "code",
   "execution_count": null,
   "metadata": {},
   "outputs": [],
   "source": []
  },
  {
   "cell_type": "code",
   "execution_count": null,
   "metadata": {},
   "outputs": [],
   "source": []
  }
 ],
 "metadata": {
  "kernelspec": {
   "display_name": "Python 3",
   "language": "python",
   "name": "python3"
  },
  "language_info": {
   "codemirror_mode": {
    "name": "ipython",
    "version": 3
   },
   "file_extension": ".py",
   "mimetype": "text/x-python",
   "name": "python",
   "nbconvert_exporter": "python",
   "pygments_lexer": "ipython3",
   "version": "3.7.0"
  }
 },
 "nbformat": 4,
 "nbformat_minor": 4
}
