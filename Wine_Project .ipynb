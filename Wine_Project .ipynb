{
 "cells": [
  {
   "cell_type": "code",
   "execution_count": 11,
   "metadata": {},
   "outputs": [],
   "source": [
    "import matplotlib.pyplot as plt\n",
    "import matplotlib.collections\n",
    "import pandas as pd \n",
    "import numpy as np\n",
    "np.set_printoptions(threshold=np.inf)\n",
    "from sklearn.model_selection import train_test_split\n",
    "from sklearn.metrics import roc_auc_score\n",
    "from sklearn.metrics import mean_squared_error\n",
    "from scipy.optimize import minimize\n",
    "from math import sqrt\n",
    "import csv"
   ]
  },
  {
   "cell_type": "markdown",
   "metadata": {},
   "source": [
    "### read the data"
   ]
  },
  {
   "cell_type": "code",
   "execution_count": 2,
   "metadata": {},
   "outputs": [
    {
     "data": {
      "text/html": [
       "<div>\n",
       "<style scoped>\n",
       "    .dataframe tbody tr th:only-of-type {\n",
       "        vertical-align: middle;\n",
       "    }\n",
       "\n",
       "    .dataframe tbody tr th {\n",
       "        vertical-align: top;\n",
       "    }\n",
       "\n",
       "    .dataframe thead th {\n",
       "        text-align: right;\n",
       "    }\n",
       "</style>\n",
       "<table border=\"1\" class=\"dataframe\">\n",
       "  <thead>\n",
       "    <tr style=\"text-align: right;\">\n",
       "      <th></th>\n",
       "      <th>fixed acidity</th>\n",
       "      <th>volatile acidity</th>\n",
       "      <th>citric acid</th>\n",
       "      <th>residual sugar</th>\n",
       "      <th>chlorides</th>\n",
       "      <th>free sulfur dioxide</th>\n",
       "      <th>total sulfur dioxide</th>\n",
       "      <th>density</th>\n",
       "      <th>pH</th>\n",
       "      <th>sulphates</th>\n",
       "      <th>alcohol</th>\n",
       "      <th>quality</th>\n",
       "    </tr>\n",
       "  </thead>\n",
       "  <tbody>\n",
       "    <tr>\n",
       "      <th>0</th>\n",
       "      <td>7.0</td>\n",
       "      <td>0.27</td>\n",
       "      <td>0.36</td>\n",
       "      <td>20.7</td>\n",
       "      <td>0.045</td>\n",
       "      <td>45.0</td>\n",
       "      <td>170.0</td>\n",
       "      <td>1.0010</td>\n",
       "      <td>3.00</td>\n",
       "      <td>0.45</td>\n",
       "      <td>8.8</td>\n",
       "      <td>6</td>\n",
       "    </tr>\n",
       "    <tr>\n",
       "      <th>1</th>\n",
       "      <td>6.3</td>\n",
       "      <td>0.30</td>\n",
       "      <td>0.34</td>\n",
       "      <td>1.6</td>\n",
       "      <td>0.049</td>\n",
       "      <td>14.0</td>\n",
       "      <td>132.0</td>\n",
       "      <td>0.9940</td>\n",
       "      <td>3.30</td>\n",
       "      <td>0.49</td>\n",
       "      <td>9.5</td>\n",
       "      <td>6</td>\n",
       "    </tr>\n",
       "    <tr>\n",
       "      <th>2</th>\n",
       "      <td>8.1</td>\n",
       "      <td>0.28</td>\n",
       "      <td>0.40</td>\n",
       "      <td>6.9</td>\n",
       "      <td>0.050</td>\n",
       "      <td>30.0</td>\n",
       "      <td>97.0</td>\n",
       "      <td>0.9951</td>\n",
       "      <td>3.26</td>\n",
       "      <td>0.44</td>\n",
       "      <td>10.1</td>\n",
       "      <td>6</td>\n",
       "    </tr>\n",
       "    <tr>\n",
       "      <th>3</th>\n",
       "      <td>7.2</td>\n",
       "      <td>0.23</td>\n",
       "      <td>0.32</td>\n",
       "      <td>8.5</td>\n",
       "      <td>0.058</td>\n",
       "      <td>47.0</td>\n",
       "      <td>186.0</td>\n",
       "      <td>0.9956</td>\n",
       "      <td>3.19</td>\n",
       "      <td>0.40</td>\n",
       "      <td>9.9</td>\n",
       "      <td>6</td>\n",
       "    </tr>\n",
       "    <tr>\n",
       "      <th>4</th>\n",
       "      <td>7.2</td>\n",
       "      <td>0.23</td>\n",
       "      <td>0.32</td>\n",
       "      <td>8.5</td>\n",
       "      <td>0.058</td>\n",
       "      <td>47.0</td>\n",
       "      <td>186.0</td>\n",
       "      <td>0.9956</td>\n",
       "      <td>3.19</td>\n",
       "      <td>0.40</td>\n",
       "      <td>9.9</td>\n",
       "      <td>6</td>\n",
       "    </tr>\n",
       "  </tbody>\n",
       "</table>\n",
       "</div>"
      ],
      "text/plain": [
       "   fixed acidity  volatile acidity  citric acid  residual sugar  chlorides  \\\n",
       "0            7.0              0.27         0.36            20.7      0.045   \n",
       "1            6.3              0.30         0.34             1.6      0.049   \n",
       "2            8.1              0.28         0.40             6.9      0.050   \n",
       "3            7.2              0.23         0.32             8.5      0.058   \n",
       "4            7.2              0.23         0.32             8.5      0.058   \n",
       "\n",
       "   free sulfur dioxide  total sulfur dioxide  density    pH  sulphates  \\\n",
       "0                 45.0                 170.0   1.0010  3.00       0.45   \n",
       "1                 14.0                 132.0   0.9940  3.30       0.49   \n",
       "2                 30.0                  97.0   0.9951  3.26       0.44   \n",
       "3                 47.0                 186.0   0.9956  3.19       0.40   \n",
       "4                 47.0                 186.0   0.9956  3.19       0.40   \n",
       "\n",
       "   alcohol  quality  \n",
       "0      8.8        6  \n",
       "1      9.5        6  \n",
       "2     10.1        6  \n",
       "3      9.9        6  \n",
       "4      9.9        6  "
      ]
     },
     "execution_count": 2,
     "metadata": {},
     "output_type": "execute_result"
    }
   ],
   "source": [
    "import pandas as pd \n",
    "data = pd.read_csv(\"clean_white_wine.csv\")\n",
    "data.head()"
   ]
  },
  {
   "cell_type": "code",
   "execution_count": 3,
   "metadata": {},
   "outputs": [
    {
     "data": {
      "text/plain": [
       "fixed acidity           0\n",
       "volatile acidity        0\n",
       "citric acid             0\n",
       "residual sugar          0\n",
       "chlorides               0\n",
       "free sulfur dioxide     0\n",
       "total sulfur dioxide    0\n",
       "density                 0\n",
       "pH                      0\n",
       "sulphates               0\n",
       "alcohol                 0\n",
       "quality                 0\n",
       "dtype: int64"
      ]
     },
     "execution_count": 3,
     "metadata": {},
     "output_type": "execute_result"
    }
   ],
   "source": [
    "data.isna().sum()"
   ]
  },
  {
   "cell_type": "code",
   "execution_count": 4,
   "metadata": {},
   "outputs": [],
   "source": [
    "X = data.drop([\"quality\"], axis=1)\n",
    "y = data[\"quality\"] "
   ]
  },
  {
   "cell_type": "markdown",
   "metadata": {},
   "source": [
    "## Oversampling the data"
   ]
  },
  {
   "cell_type": "code",
   "execution_count": 5,
   "metadata": {},
   "outputs": [
    {
     "data": {
      "text/plain": [
       "<matplotlib.axes._subplots.AxesSubplot at 0x20d643d6710>"
      ]
     },
     "execution_count": 5,
     "metadata": {},
     "output_type": "execute_result"
    },
    {
     "data": {
      "image/png": "[encoded data removed]",
      "text/plain": [
       "<Figure size 432x288 with 1 Axes>"
      ]
     },
     "metadata": {
      "needs_background": "light"
     },
     "output_type": "display_data"
    }
   ],
   "source": [
    "y.plot.hist()"
   ]
  },
  {
   "cell_type": "code",
   "execution_count": 6,
   "metadata": {},
   "outputs": [],
   "source": [
    "from imblearn.over_sampling import SMOTE\n",
    "\n",
    "# Resample the minority class. You can change the strategy to 'auto' if you are not sure.\n",
    "sm = SMOTE(sampling_strategy='auto', random_state=2, k_neighbors=2)\n",
    "\n",
    "# Fit the model to generate the data.\n",
    "oversampled_X, oversampled_Y = sm.fit_sample(X, y)\n",
    "oversampled_data = pd.concat([pd.DataFrame(oversampled_X), pd.DataFrame(oversampled_Y)], axis=1)\n"
   ]
  },
  {
   "cell_type": "code",
   "execution_count": 10,
   "metadata": {},
   "outputs": [],
   "source": [
    "oversampled_data.to_csv('oversampled_clean_data_white.csv', index=False)"
   ]
  },
  {
   "cell_type": "code",
   "execution_count": 7,
   "metadata": {},
   "outputs": [
    {
     "data": {
      "text/plain": [
       "<matplotlib.axes._subplots.AxesSubplot at 0x20d664c61d0>"
      ]
     },
     "execution_count": 7,
     "metadata": {},
     "output_type": "execute_result"
    },
    {
     "data": {
      "image/png": "[encoded data removed]",
      "text/plain": [
       "<Figure size 432x288 with 1 Axes>"
      ]
     },
     "metadata": {
      "needs_background": "light"
     },
     "output_type": "display_data"
    }
   ],
   "source": [
    "oversampled_data['quality'].plot.hist()"
   ]
  },
  {
   "cell_type": "markdown",
   "metadata": {},
   "source": [
    "### normalize the data useing z-score"
   ]
  },
  {
   "cell_type": "code",
   "execution_count": null,
   "metadata": {},
   "outputs": [],
   "source": [
    "mean = oversampled_X.mean()\n",
    "std = oversampled_X.std()\n",
    "normalized_X = (oversampled_X - mean)/std\n",
    "normalized_X.head()"
   ]
  },
  {
   "cell_type": "markdown",
   "metadata": {},
   "source": [
    "### split the data"
   ]
  },
  {
   "cell_type": "code",
   "execution_count": null,
   "metadata": {},
   "outputs": [],
   "source": [
    "X_train, X_test, y_train, y_test = train_test_split(normalized_X, oversampled_Y, test_size=0.18, random_state=42)"
   ]
  },
  {
   "cell_type": "code",
   "execution_count": null,
   "metadata": {},
   "outputs": [],
   "source": [
    "train_normalized_data = X_train.copy()\n",
    "train_normalized_data['quality'] = y_train\n",
    "\n",
    "test_normalized_data = X_test.copy()\n",
    "test_normalized_data['quality'] = y_test\n",
    "normalized_data = pd.concat([train_normalized_data, test_normalized_data])"
   ]
  },
  {
   "cell_type": "code",
   "execution_count": null,
   "metadata": {},
   "outputs": [],
   "source": [
    "import seaborn as sns\n",
    "sns.set(rc={'figure.figsize':(10,8)})\n",
    "corr = oversampled_data.corr()\n",
    "sns.heatmap(corr, \n",
    "            xticklabels=corr.columns.values,\n",
    "            yticklabels=corr.columns.values,\n",
    "           cmap=\"YlGnBu\",\n",
    "            annot=True,\n",
    "           fmt=\".2f\")\n",
    "plt.show()"
   ]
  },
  {
   "cell_type": "markdown",
   "metadata": {},
   "source": [
    "# Question 1.a - Regrestion\n",
    "we'll try out three regresion models and compair them.\n",
    "1. linear regrestion\n",
    "2. SVM Regresor\n",
    "3. neural network regresor"
   ]
  },
  {
   "cell_type": "markdown",
   "metadata": {},
   "source": [
    "# Linear Regrestion"
   ]
  },
  {
   "cell_type": "code",
   "execution_count": null,
   "metadata": {},
   "outputs": [],
   "source": [
    "from sklearn.linear_model import LinearRegression\n",
    "reg = LinearRegression().fit(X_train, y_train)\n",
    "print('score = ', reg.score(X_test, y_test))\n",
    "\n",
    "from sklearn.metrics import mean_squared_error\n",
    "a=reg.predict(X_train)\n",
    "train_rmse= (mean_squared_error(a,y_train)) ** 0.5\n",
    "print('train_rmse =', train_rmse)\n",
    "b=reg.predict(X_test)\n",
    "test_rmse= (mean_squared_error(b,y_test)) ** 0.5\n",
    "print('test_rmse =', test_rmse)"
   ]
  },
  {
   "cell_type": "code",
   "execution_count": null,
   "metadata": {},
   "outputs": [],
   "source": [
    "reg.coef_"
   ]
  },
  {
   "cell_type": "code",
   "execution_count": null,
   "metadata": {},
   "outputs": [],
   "source": [
    "# polinomial regresion\n",
    "from sklearn.preprocessing import PolynomialFeatures\n",
    "from sklearn.linear_model import LinearRegression\n",
    "from sklearn.pipeline import Pipeline\n",
    "\n",
    "\n",
    "p_reg = Pipeline([('poly', PolynomialFeatures(degree=2)),\n",
    "                  ('linear', LinearRegression(fit_intercept=False))])\n",
    "\n",
    "p_reg = p_reg.fit(X_train, y_train)\n",
    "p_reg.named_steps['linear'].coef_"
   ]
  },
  {
   "cell_type": "code",
   "execution_count": null,
   "metadata": {},
   "outputs": [],
   "source": [
    "from sklearn.metrics import mean_squared_error\n",
    "print ('score = ', p_reg.score(X_test, y_test))\n",
    "a = p_reg.predict(X_train)\n",
    "train_rmse = (mean_squared_error(a, y_train)) ** 0.5\n",
    "print('train_rmse =', train_rmse)\n",
    "b=  p_reg.predict(X_test)\n",
    "test_rmse = (mean_squared_error(b, y_test)) ** 0.5\n",
    "print('test_rmse =', test_rmse)"
   ]
  },
  {
   "cell_type": "markdown",
   "metadata": {},
   "source": [
    "# SVM Regresor"
   ]
  },
  {
   "cell_type": "code",
   "execution_count": null,
   "metadata": {},
   "outputs": [],
   "source": [
    "from sklearn import svm\n",
    "regr_rbf = svm.SVR(kernel='rbf')\n",
    "regr_lin = svm.SVR(kernel='linear')\n",
    "regr_poly =svm.SVR(kernel='poly', degree = 2)\n",
    "regr_rbf.fit(X_train, y_train)\n",
    "regr_lin.fit(X_train, y_train)\n",
    "regr_poly.fit(X_train, y_train)"
   ]
  },
  {
   "cell_type": "code",
   "execution_count": null,
   "metadata": {},
   "outputs": [],
   "source": [
    "print('regr_rbf score = ',regr_rbf.score(X_train,y_train))\n",
    "a = regr_rbf.predict(X_train)\n",
    "train_rmse = (mean_squared_error(a, y_train)) ** 0.5\n",
    "print('regr_rbf train_rmse = ',train_rmse)\n",
    "b=  regr_rbf.predict(X_test)\n",
    "test_rmse = (mean_squared_error(b, y_test)) ** 0.5\n",
    "print('regr_rbf test_rmse = ', test_rmse, '\\n')\n",
    "\n",
    "print('regr_lin score = ',regr_lin.score(X_train,y_train))\n",
    "a = regr_lin.predict(X_train)\n",
    "train_rmse = (mean_squared_error(a, y_train)) ** 0.5\n",
    "print('regr_lin train_rmse = ',train_rmse)\n",
    "b=  regr_lin.predict(X_test)\n",
    "test_rmse = (mean_squared_error(b, y_test)) ** 0.5\n",
    "print('regr_lin test_rmse = ', test_rmse,'\\n')\n",
    "\n",
    "print('regr_poly score = ',regr_poly.score(X_train,y_train))\n",
    "a = regr_poly.predict(X_train)\n",
    "train_rmse = (mean_squared_error(a, y_train)) ** 0.5\n",
    "print('regr_poly train_rmse = ',train_rmse)\n",
    "b=  regr_poly.predict(X_test)\n",
    "test_rmse = (mean_squared_error(b, y_test)) ** 0.5\n",
    "print('regr_poly test_rmse = ', test_rmse)"
   ]
  },
  {
   "cell_type": "markdown",
   "metadata": {},
   "source": [
    "# Deep Neural Network Regresor "
   ]
  },
  {
   "cell_type": "code",
   "execution_count": null,
   "metadata": {},
   "outputs": [],
   "source": [
    "import keras\n",
    "from keras.models import Sequential\n",
    "from keras.layers import Input, Dense\n",
    "from keras.layers import Dropout\n",
    "from keras.models import Model\n",
    "import tensorflow as tf"
   ]
  },
  {
   "cell_type": "code",
   "execution_count": null,
   "metadata": {},
   "outputs": [],
   "source": [
    "DNN_model = Sequential()\n",
    "DNN_model.add(Dense(100, input_dim=11, activation= \"selu\"))\n",
    "DNN_model.add(Dropout(0.1))\n",
    "DNN_model.add(Dense(128, activation= \"selu\"))\n",
    "DNN_model.add(Dropout(0.1))\n",
    "DNN_model.add(Dense(128, activation= \"selu\"))\n",
    "DNN_model.add(Dropout(0.1))\n",
    "DNN_model.add(Dense(2, activation= \"selu\"))\n",
    "DNN_model.add(Dense(1))"
   ]
  },
  {
   "cell_type": "code",
   "execution_count": null,
   "metadata": {
    "scrolled": true
   },
   "outputs": [],
   "source": [
    "DNN_model.compile(loss= \"mean_squared_error\", optimizer=\"adam\", metrics=[\"mean_squared_error\"])\n",
    "#history = NN_model.fit(X_train, y_train, epochs=100, validation_split=0.2, callbacks=[tf.keras.callbacks.EarlyStopping(patience=2)])\n",
    "history = DNN_model.fit(X_train, y_train, epochs=70, validation_split=0.3)"
   ]
  },
  {
   "cell_type": "code",
   "execution_count": null,
   "metadata": {},
   "outputs": [],
   "source": [
    "print(history.history.keys())"
   ]
  },
  {
   "cell_type": "code",
   "execution_count": null,
   "metadata": {},
   "outputs": [],
   "source": [
    "# list all data in history\n",
    "print(history.history.keys())\n",
    "# summarize history for accuracy\n",
    "plt.plot(history.history['mean_squared_error'])\n",
    "plt.plot(history.history['val_mean_squared_error'])\n",
    "plt.title('mean_squared_error')\n",
    "plt.ylabel('mean_squared_error')\n",
    "plt.xlabel('epoch')\n",
    "plt.legend(['train', 'test'], loc='upper left')\n",
    "plt.show()\n",
    "# summarize history for loss\n",
    "plt.plot(history.history['loss'])\n",
    "plt.plot(history.history['val_loss'])\n",
    "plt.title('model loss')\n",
    "plt.ylabel('loss')\n",
    "plt.xlabel('epoch')\n",
    "plt.legend(['train', 'test'], loc='upper left')\n",
    "plt.show()"
   ]
  },
  {
   "cell_type": "code",
   "execution_count": null,
   "metadata": {},
   "outputs": [],
   "source": [
    "a = DNN_model.predict(X_train)\n",
    "train_rmse = (mean_squared_error(a, y_train)) ** 0.5\n",
    "print('NN train_rmse = ',train_rmse)\n",
    "b=  DNN_model.predict(X_test)\n",
    "test_rmse = (mean_squared_error(b, y_test)) ** 0.5\n",
    "print('NN test_rmse = ', test_rmse)"
   ]
  },
  {
   "cell_type": "markdown",
   "metadata": {},
   "source": [
    "# Question 1.b - Clustering\n",
    "we'll try out three clustering methoods and compair them.\n",
    "1. DBSCAN\n",
    "2. K-Means\n",
    "3. GMM"
   ]
  },
  {
   "cell_type": "code",
   "execution_count": null,
   "metadata": {},
   "outputs": [],
   "source": [
    "from sklearn.cluster import MeanShift\n",
    "import numpy as np\n",
    "\n",
    "clustering = MeanShift(bandwidth=3).fit(normalized_X)\n",
    "clustering.labels_\n",
    "\n",
    "\n",
    "clustering"
   ]
  },
  {
   "cell_type": "code",
   "execution_count": null,
   "metadata": {},
   "outputs": [],
   "source": [
    "clustering.labels_"
   ]
  },
  {
   "cell_type": "code",
   "execution_count": null,
   "metadata": {},
   "outputs": [],
   "source": [
    "oversampled_data['MeanShift_cluster'] = pd.Series(clustering.labels_, index=oversampled_data.index)"
   ]
  },
  {
   "cell_type": "code",
   "execution_count": null,
   "metadata": {},
   "outputs": [],
   "source": [
    "hist_dictionary = {}\n",
    "for i in clustering.labels_:\n",
    "    if str(i) in hist_dictionary:\n",
    "        hist_dictionary[str(i)] = hist_dictionary[str(i)] + 1\n",
    "    else:\n",
    "        hist_dictionary[str(i)] = 1\n",
    "clusters_names_numeric = [int(x) for x in hist_dictionary.keys()]\n",
    "clusters_names_numeric.sort()\n",
    "clusters_names = [str(name) for name in clusters_names_numeric]\n",
    "points_amount_for_cluster = [hist_dictionary[x] for x in clusters_names]\n",
    "\n",
    "clustering_hist_df = pd.DataFrame([points_amount_for_cluster])\n",
    "clustering_hist_df.columns = clusters_names\n",
    "print('Table of the component number, and how many points each one of them has:')\n",
    "clustering_hist_df"
   ]
  },
  {
   "cell_type": "code",
   "execution_count": null,
   "metadata": {},
   "outputs": [],
   "source": [
    "from sklearn.cluster import AgglomerativeClustering\n",
    "import scipy.cluster.hierarchy as sch\n",
    "dendrogram = sch.dendrogram(sch.linkage(data, method='ward'))\n",
    "\n",
    "model = AgglomerativeClustering(n_clusters=7, affinity='euclidean', linkage='ward')\n",
    "model.fit(normalized_X)\n",
    "labels = model.labels_\n",
    "oversampled_data['Agglomerative_cluster'] = pd.Series(model.labels_, index=oversampled_data.index)"
   ]
  },
  {
   "cell_type": "code",
   "execution_count": null,
   "metadata": {},
   "outputs": [],
   "source": [
    "for i in range(0,7):\n",
    "    print('min',oversampled_data[oversampled_data.Agglomerative_cluster==i]['quality'].min())\n",
    "    print('max',oversampled_data[oversampled_data.Agglomerative_cluster==i]['quality'].max())\n",
    "    print('mean',oversampled_data[oversampled_data.Agglomerative_cluster==i]['quality'].mean())"
   ]
  },
  {
   "cell_type": "code",
   "execution_count": null,
   "metadata": {},
   "outputs": [],
   "source": [
    "hist_dictionary = {}\n",
    "for i in model.labels_:\n",
    "    if str(i) in hist_dictionary:\n",
    "        hist_dictionary[str(i)] = hist_dictionary[str(i)] + 1\n",
    "    else:\n",
    "        hist_dictionary[str(i)] = 1\n",
    "clusters_names_numeric = [int(x) for x in hist_dictionary.keys()]\n",
    "clusters_names_numeric.sort()\n",
    "clusters_names = [str(name) for name in clusters_names_numeric]\n",
    "points_amount_for_cluster = [hist_dictionary[x] for x in clusters_names]\n",
    "\n",
    "clustering_hist_df = pd.DataFrame([points_amount_for_cluster])\n",
    "clustering_hist_df.columns = clusters_names\n",
    "print('Table of the component number, and how many points each one of them has:')\n",
    "clustering_hist_df"
   ]
  },
  {
   "cell_type": "code",
   "execution_count": null,
   "metadata": {},
   "outputs": [],
   "source": []
  },
  {
   "cell_type": "markdown",
   "metadata": {},
   "source": [
    "# For Tom"
   ]
  },
  {
   "cell_type": "markdown",
   "metadata": {},
   "source": [
    "### K_MEANS Elbow Method"
   ]
  },
  {
   "cell_type": "code",
   "execution_count": null,
   "metadata": {},
   "outputs": [],
   "source": [
    "from sklearn.cluster import KMeans\n"
   ]
  },
  {
   "cell_type": "code",
   "execution_count": null,
   "metadata": {},
   "outputs": [],
   "source": [
    "Sum_of_squared_distances = []\n",
    "K = range(1,25)\n",
    "for k in K:\n",
    "    km = KMeans(n_clusters=k)\n",
    "    km = km.fit(X_train)\n",
    "    Sum_of_squared_distances.append(km.inertia_)"
   ]
  },
  {
   "cell_type": "code",
   "execution_count": null,
   "metadata": {},
   "outputs": [],
   "source": [
    "plt.plot(K, Sum_of_squared_distances, 'bx-')\n",
    "plt.xlabel('k')\n",
    "plt.ylabel('Sum_of_squared_distances')\n",
    "plt.title('Elbow Method For Optimal k')\n",
    "plt.show()"
   ]
  },
  {
   "cell_type": "code",
   "execution_count": null,
   "metadata": {},
   "outputs": [],
   "source": [
    "KM_cluster = KMeans(n_clusters=9)\n",
    "KM_cluster = KM_cluster.fit(X_train)\n",
    "y_train_df = pd.DataFrame(y_train.copy(),columns=['quality'])\n",
    "train_normalized_data['KMeans_cluster'] = pd.Series(KM_cluster.labels_, index=train_normalized_data.index)\n",
    "train_normalized_data['KMeans_cluster'].max()"
   ]
  },
  {
   "cell_type": "code",
   "execution_count": null,
   "metadata": {},
   "outputs": [],
   "source": [
    "def getClusterMeanDict(df: pd.DataFrame, cluster_column_name: str, quality_column_name='quality'):\n",
    "    cluster_quality_dict = {}\n",
    "    for i in df[cluster_column_name].unique():\n",
    "        cluster_quality_dict[i] = df[df[cluster_column_name]==i][quality_column_name].mean()\n",
    "    return cluster_quality_dict"
   ]
  },
  {
   "cell_type": "code",
   "execution_count": null,
   "metadata": {},
   "outputs": [],
   "source": [
    "KM_score_dict = getClusterMeanDict(train_normalized_data,cluster_column_name = 'KMeans_cluster')"
   ]
  },
  {
   "cell_type": "code",
   "execution_count": null,
   "metadata": {},
   "outputs": [],
   "source": [
    "def cluster_score(cluster_quality_dict: dict, test_cluster_lables: pd.Series, real_test_values: pd.Series):\n",
    "    predicted_qualities = []\n",
    "    for i in test_cluster_lables:\n",
    "        predicted_qualities.append(cluster_quality_dict[i])\n",
    "    predicted_qualities = pd.Series(predicted_qualities)\n",
    "    return mean_squared_error(predicted_qualities, real_test_values) ** 0.5"
   ]
  },
  {
   "cell_type": "code",
   "execution_count": null,
   "metadata": {},
   "outputs": [],
   "source": [
    "km_pred = KM_cluster.predict(X_test)\n",
    "cluster_score(KM_score_dict,km_pred,y_test)"
   ]
  },
  {
   "cell_type": "code",
   "execution_count": null,
   "metadata": {},
   "outputs": [],
   "source": []
  },
  {
   "cell_type": "markdown",
   "metadata": {
    "scrolled": true
   },
   "source": [
    "# Demention Reduction"
   ]
  },
  {
   "cell_type": "code",
   "execution_count": null,
   "metadata": {},
   "outputs": [],
   "source": [
    "def printPrejections(reducted_df: pd.DataFrame):\n",
    "    for i in range(0,2):\n",
    "        for j in range(i+1,3):\n",
    "            plotName = '(dim '+str(i)+'),(dim '+str(j)+')'\n",
    "            vis = pd.DataFrame()\n",
    "            vis['one'] = reducted_df[i]\n",
    "            vis['two'] = reducted_df[j]\n",
    "            vis['y'] = reducted_df['quality']\n",
    "            plt.figure(figsize=(16,10))\n",
    "            sns.scatterplot(\n",
    "                x=\"one\", y=\"two\",\n",
    "                hue=\"y\",\n",
    "                palette=sns.color_palette(\"hls\", len(set(list(reducted_df['quality'])))),\n",
    "                data=vis,\n",
    "                legend=\"full\",\n",
    "                alpha=0.8\n",
    "            ).set_title(plotName)\n",
    "        "
   ]
  },
  {
   "cell_type": "markdown",
   "metadata": {},
   "source": [
    "## pca"
   ]
  },
  {
   "cell_type": "code",
   "execution_count": null,
   "metadata": {},
   "outputs": [],
   "source": [
    "from sklearn.decomposition import PCA\n",
    "pca = PCA(n_components=3)\n",
    "pca.fit(normalized_X)\n",
    "\n",
    "print(pca.explained_variance_ratio_)\n",
    "\n",
    "print(pca.singular_values_)"
   ]
  },
  {
   "cell_type": "code",
   "execution_count": null,
   "metadata": {},
   "outputs": [],
   "source": [
    "pca_df = pd.DataFrame(pca.transform(normalized_X))\n",
    "pca_df['quality'] = oversampled_Y\n"
   ]
  },
  {
   "cell_type": "code",
   "execution_count": null,
   "metadata": {},
   "outputs": [],
   "source": [
    "pca_df.head()"
   ]
  },
  {
   "cell_type": "code",
   "execution_count": null,
   "metadata": {},
   "outputs": [],
   "source": [
    "import seaborn as sns\n",
    "sns.set(rc={'figure.figsize':(10,8)})\n",
    "corr = pca_df.corr()\n",
    "sns.heatmap(corr, \n",
    "            xticklabels=corr.columns.values,\n",
    "            yticklabels=corr.columns.values,\n",
    "           cmap=\"YlGnBu\",\n",
    "            annot=True,\n",
    "           fmt=\".2f\")\n",
    "plt.show()"
   ]
  },
  {
   "cell_type": "code",
   "execution_count": null,
   "metadata": {
    "scrolled": false
   },
   "outputs": [],
   "source": [
    "printPrejections(pca_df)"
   ]
  },
  {
   "cell_type": "code",
   "execution_count": null,
   "metadata": {},
   "outputs": [],
   "source": []
  },
  {
   "cell_type": "markdown",
   "metadata": {},
   "source": [
    "## Auto Encoder"
   ]
  },
  {
   "cell_type": "code",
   "execution_count": null,
   "metadata": {
    "scrolled": true
   },
   "outputs": [],
   "source": [
    "### AN EXAMPLE OF DEEP AUTOENCODER WITH MULTIPLE LAYERS\n",
    "# InputLayer (None, 10)\n",
    "#      Dense (None, 20)\n",
    "#      Dense (None, 10)\n",
    "#      Dense (None, 5)\n",
    "#      Dense (None, 3)\n",
    "#      Dense (None, 5)\n",
    "#      Dense (None, 10)\n",
    "#      Dense (None, 20)\n",
    "#      Dense (None, 10)\n",
    " \n",
    "input_dim = Input(shape = (11, ))\n",
    "# DEFINE THE DIMENSION OF ENCODER ASSUMED 3\n",
    "encoding_dim = 3\n",
    "# DEFINE THE ENCODER LAYERS\n",
    "encoded1 = Dense(9, activation = 'selu')(input_dim)\n",
    "encoded2 = Dense(6, activation = 'selu')(encoded1)\n",
    "encoded3 = Dense(4, activation = 'selu')(encoded2)\n",
    "encoded4 = Dense(encoding_dim, activation = 'relu')(encoded3)\n",
    "# DEFINE THE DECODER LAYERS\n",
    "decoded1 = Dense(4, activation = 'selu')(encoded4)\n",
    "decoded2 = Dense(6, activation = 'selu')(decoded1)\n",
    "decoded3 = Dense(9, activation = 'selu')(decoded2)\n",
    "decoded4 = Dense(11, activation = 'sigmoid')(decoded3)\n",
    "# COMBINE ENCODER AND DECODER INTO AN AUTOENCODER MODEL\n",
    "autoencoder = Model(input_dim, decoded4)\n",
    "# CONFIGURE AND TRAIN THE AUTOENCODER\n",
    "autoencoder.compile(optimizer = 'adadelta', loss = 'binary_crossentropy')\n",
    "autoencoder.fit(X_train, X_train, epochs = 100, batch_size = 100, shuffle = True, validation_data = (X_test, X_test))\n",
    "# THE ENCODER TO EXTRACT THE REDUCED DIMENSION FROM THE ABOVE AUTOENCODER\n",
    "encoder = Model(input_dim, encoded4)\n",
    "encoded_input = Input(shape = (encoding_dim, ))\n",
    "encoded_out = encoder.predict(X_test)\n",
    "encoded_out[0:2]"
   ]
  },
  {
   "cell_type": "code",
   "execution_count": null,
   "metadata": {},
   "outputs": [],
   "source": [
    "AE_data = pd.DataFrame(encoded_out)\n",
    "AE_data['quality']=y_test.values\n",
    "import seaborn as sns\n",
    "sns.set(rc={'figure.figsize':(10,8)})\n",
    "corr = AE_data.corr()\n",
    "sns.heatmap(corr, \n",
    "            xticklabels=corr.columns.values,\n",
    "            yticklabels=corr.columns.values,\n",
    "           cmap=\"YlGnBu\",\n",
    "            annot=True,\n",
    "           fmt=\".2f\")\n",
    "plt.show()"
   ]
  },
  {
   "cell_type": "code",
   "execution_count": null,
   "metadata": {
    "scrolled": false
   },
   "outputs": [],
   "source": [
    "printPrejections(AE_data)"
   ]
  },
  {
   "cell_type": "markdown",
   "metadata": {},
   "source": [
    "## LLE"
   ]
  },
  {
   "cell_type": "code",
   "execution_count": null,
   "metadata": {},
   "outputs": [],
   "source": [
    "from sklearn.manifold import LocallyLinearEmbedding\n",
    "\n",
    "embedding = LocallyLinearEmbedding(n_components=3)\n",
    "X_transformed = embedding.fit_transform((X - X.mean())/X.std())\n",
    "X_transformed.shape"
   ]
  },
  {
   "cell_type": "code",
   "execution_count": null,
   "metadata": {},
   "outputs": [],
   "source": [
    "LLE_data = pd.DataFrame(X_transformed)\n",
    "LLE_data['quality'] = y.values\n",
    "import seaborn as sns\n",
    "sns.set(rc={'figure.figsize':(10,8)})\n",
    "corr = LLE_data.corr()\n",
    "sns.heatmap(corr, \n",
    "            xticklabels=corr.columns.values,\n",
    "            yticklabels=corr.columns.values,\n",
    "           cmap=\"YlGnBu\",\n",
    "            annot=True,\n",
    "           fmt=\".2f\")\n",
    "plt.show()"
   ]
  },
  {
   "cell_type": "code",
   "execution_count": null,
   "metadata": {
    "scrolled": false
   },
   "outputs": [],
   "source": [
    "printPrejections(LLE_data)"
   ]
  },
  {
   "cell_type": "code",
   "execution_count": null,
   "metadata": {},
   "outputs": [],
   "source": []
  },
  {
   "cell_type": "markdown",
   "metadata": {},
   "source": [
    "# Linear Models Compereson"
   ]
  },
  {
   "cell_type": "code",
   "execution_count": null,
   "metadata": {},
   "outputs": [],
   "source": [
    "import statsmodels.api as sm\n",
    "from statsmodels.regression import linear_model\n",
    "oversampled_X = sm.add_constant(oversampled_X)\n",
    "model = sm.OLS(oversampled_Y,normalized_X)\n",
    "results = model.fit()"
   ]
  },
  {
   "cell_type": "code",
   "execution_count": null,
   "metadata": {},
   "outputs": [],
   "source": [
    "print(results.t_test(np.identity(11)))"
   ]
  },
  {
   "cell_type": "code",
   "execution_count": null,
   "metadata": {},
   "outputs": [],
   "source": [
    "df = pd.DataFrame({'a':[4,5,6],'b':[7,8,9],'c':[10,11,12]})"
   ]
  },
  {
   "cell_type": "code",
   "execution_count": null,
   "metadata": {},
   "outputs": [],
   "source": [
    "s = pd.Series([2,2,1])\n",
    "t = pd.Series([4,6,8])"
   ]
  },
  {
   "cell_type": "code",
   "execution_count": null,
   "metadata": {},
   "outputs": [],
   "source": [
    "for col in df.columns:\n",
    "    df[('s*'+col)]=df[col]*s"
   ]
  },
  {
   "cell_type": "code",
   "execution_count": null,
   "metadata": {},
   "outputs": [],
   "source": [
    "df"
   ]
  },
  {
   "cell_type": "code",
   "execution_count": null,
   "metadata": {},
   "outputs": [],
   "source": [
    "df = sm.add_constant(df)\n",
    "model = linear_model.OLS(t,df)\n",
    "results = model.fit()"
   ]
  },
  {
   "cell_type": "code",
   "execution_count": null,
   "metadata": {},
   "outputs": [],
   "source": [
    "results.summary()"
   ]
  },
  {
   "cell_type": "code",
   "execution_count": null,
   "metadata": {},
   "outputs": [],
   "source": []
  },
  {
   "cell_type": "markdown",
   "metadata": {},
   "source": [
    "# World's Best Grape !"
   ]
  },
  {
   "cell_type": "code",
   "execution_count": null,
   "metadata": {},
   "outputs": [],
   "source": [
    "def CustumLossFunction(x: list):\n",
    "    X_df = pd.DataFrame([x],columns=['fixed_acidity', 'volatile_acidity', 'citric_acid', 'residual_sugar', \n",
    "                                                    'chlorides', 'free_sulfur_dioxide', 'total_sulfur_dioxide', \n",
    "                                                    'density', 'pH', 'sulphates', 'alcohol'])\n",
    "    return abs(10-regr_rbf.predict(X_df)[0])"
   ]
  },
  {
   "cell_type": "code",
   "execution_count": null,
   "metadata": {},
   "outputs": [],
   "source": [
    "methoods = ['Nelder-Mead','Powell','CG','BFGS','L-BFGS-B','TNC','COBYLA','SLSQP','trust-constr']"
   ]
  },
  {
   "cell_type": "code",
   "execution_count": null,
   "metadata": {},
   "outputs": [],
   "source": [
    "min_error = 100\n",
    "best_methood = ''\n",
    "x0 = list(normalized_data[normalized_data.quality==9].mean().to_frame().T.drop(['quality'],axis=1).values[0])\n",
    "for m in methoods:\n",
    "    res = minimize(CustumLossFunction, x0, method=m, tol=1e-6, options={'maxiter': 10000})\n",
    "    if res.fun<min_error:\n",
    "        best_methood=m\n",
    "        min_error=res.fun"
   ]
  },
  {
   "cell_type": "code",
   "execution_count": null,
   "metadata": {},
   "outputs": [],
   "source": [
    "print(best_methood)\n",
    "print(min_error)\n",
    "res = minimize(CustumLossFunction, x0, method=best_methood, tol=1e-6, options={'maxiter': 10000})\n",
    "print('best grape score: ',regr_rbf.predict(pd.Series(res.x).to_frame().T)[0])\n",
    "print('best grape score: ',DNN_model.predict(pd.Series(res.x).to_frame().T)[0][0])\n",
    "print('best grape score: ',regr_lin.predict(pd.Series(res.x).to_frame().T)[0])\n",
    "print('best grape score: ',regr_poly.predict(pd.Series(res.x).to_frame().T)[0])\n",
    "print('best grape score: ',reg.predict(pd.Series(res.x).to_frame().T)[0])"
   ]
  },
  {
   "cell_type": "code",
   "execution_count": null,
   "metadata": {},
   "outputs": [],
   "source": [
    "res.x"
   ]
  },
  {
   "cell_type": "code",
   "execution_count": null,
   "metadata": {
    "scrolled": false
   },
   "outputs": [],
   "source": [
    "def CustumLossFunction(x: list):\n",
    "    X_df = pd.DataFrame([x],columns=['fixed_acidity', 'volatile_acidity', 'citric_acid', 'residual_sugar', \n",
    "                                                    'chlorides', 'free_sulfur_dioxide', 'total_sulfur_dioxide', \n",
    "                                                    'density', 'pH', 'sulphates', 'alcohol'])\n",
    "    return abs(10-DNN_model.predict(X_df)[0][0])"
   ]
  },
  {
   "cell_type": "code",
   "execution_count": null,
   "metadata": {},
   "outputs": [],
   "source": [
    "min_error = 100\n",
    "best_methood = ''\n",
    "x0 = list(normalized_data[normalized_data.quality==9].mean().to_frame().T.drop(['quality'],axis=1).values[0])\n",
    "for m in methoods:\n",
    "    res = minimize(CustumLossFunction, x0, method=m, tol=1e-6, options={'maxiter': 10000})\n",
    "    if res.fun<min_error:\n",
    "        best_methood=m\n",
    "        min_error=res.fun"
   ]
  },
  {
   "cell_type": "code",
   "execution_count": null,
   "metadata": {
    "scrolled": false
   },
   "outputs": [],
   "source": [
    "print(best_methood)\n",
    "print(min_error)\n",
    "res = minimize(CustumLossFunction, x0, method=best_methood, tol=1e-6, options={'maxiter': 10000})\n",
    "print('best grape score: ',regr_rbf.predict(pd.Series(res.x).to_frame().T)[0])\n",
    "print('best grape score: ',DNN_model.predict(pd.Series(res.x).to_frame().T)[0][0])\n",
    "print('best grape score: ',regr_lin.predict(pd.Series(res.x).to_frame().T)[0])\n",
    "print('best grape score: ',regr_poly.predict(pd.Series(res.x).to_frame().T)[0])\n",
    "print('best grape score: ',reg.predict(pd.Series(res.x).to_frame().T)[0])"
   ]
  },
  {
   "cell_type": "code",
   "execution_count": null,
   "metadata": {},
   "outputs": [],
   "source": [
    "res.x"
   ]
  },
  {
   "cell_type": "code",
   "execution_count": null,
   "metadata": {},
   "outputs": [],
   "source": [
    "normalized_data.max()"
   ]
  },
  {
   "cell_type": "code",
   "execution_count": null,
   "metadata": {},
   "outputs": [],
   "source": []
  },
  {
   "cell_type": "code",
   "execution_count": null,
   "metadata": {},
   "outputs": [],
   "source": []
  }
 ],
 "metadata": {
  "kernelspec": {
   "display_name": "Python 3",
   "language": "python",
   "name": "python3"
  },
  "language_info": {
   "codemirror_mode": {
    "name": "ipython",
    "version": 3
   },
   "file_extension": ".py",
   "mimetype": "text/x-python",
   "name": "python",
   "nbconvert_exporter": "python",
   "pygments_lexer": "ipython3",
   "version": "3.7.0"
  }
 },
 "nbformat": 4,
 "nbformat_minor": 4
}
